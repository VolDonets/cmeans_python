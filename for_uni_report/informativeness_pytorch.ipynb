{
 "cells": [
  {
   "cell_type": "markdown",
   "source": [
    "# Original Method\n",
    "### Compute informativeness for all parameters by all available data"
   ],
   "metadata": {
    "collapsed": false
   },
   "id": "4f485247ab94325f"
  },
  {
   "cell_type": "code",
   "outputs": [],
   "source": [
    "import torch\n",
    "import torch.nn.functional as F\n",
    "import numpy as np\n",
    "\n",
    "def gradient_importance(model, x_data, y_data):\n",
    "    loss_function = F.cross_entropy\n",
    "    inputs = torch.tensor(x_data, dtype=torch.float32, requires_grad=True)\n",
    "    labels = torch.tensor(y_data, dtype=torch.long)\n",
    "    predictions = model(inputs)\n",
    "    loss = loss_function(predictions, labels)\n",
    "    loss.backward()\n",
    "    gradients = inputs.grad\n",
    "    \n",
    "    feature_importance_train = torch.mean(torch.abs(gradients), dim=0)\n",
    "    normalized_importance = feature_importance_train.numpy() / np.sum(feature_importance_train.numpy())\n",
    "    \n",
    "    print(normalized_importance)"
   ],
   "metadata": {
    "collapsed": false
   },
   "id": "605a0fc921b732"
  },
  {
   "cell_type": "markdown",
   "source": [
    "# Integrated Gradients Importance\n",
    "### Compute informativeness for parameters of the specific input data"
   ],
   "metadata": {
    "collapsed": false
   },
   "id": "f549c63149076a38"
  },
  {
   "cell_type": "code",
   "outputs": [],
   "source": [
    "import torch\n",
    "\n",
    "def integrated_gradients_v2(pretrained_model, input_tensor, baseline=None, steps=50):\n",
    "    \"\"\"Computes integrated gradients for a model with vector output.\n",
    "\n",
    "    Args:\n",
    "        pretrained_model: A PyTorch model with a single output tensor.\n",
    "        input_tensor: A tensor representing the input to the model.\n",
    "        baseline: A tensor representing the baseline input (optional).\n",
    "        steps: The number of steps to use for integration.\n",
    "\n",
    "    Returns:\n",
    "        A tensor of integrated gradients, with the same shape as the input.\n",
    "    \"\"\"\n",
    "\n",
    "    if baseline is None:\n",
    "        baseline = torch.zeros_like(input_tensor)\n",
    "\n",
    "    def compute_gradients(alpha_):\n",
    "        interpolated_input = input_tensor * alpha_\n",
    "        interpolated_input += baseline + (1 - alpha_)\n",
    "        interpolated_input.requires_grad_()\n",
    "        output = pretrained_model(interpolated_input)\n",
    "        gradients_ = torch.autograd.grad(output, interpolated_input)[0]\n",
    "        return gradients_\n",
    "\n",
    "    int_grads = torch.zeros_like(input_tensor)\n",
    "    for inx in range(steps):\n",
    "        alpha = (inx + 1) / (steps + 1)\n",
    "        grads = compute_gradients(alpha)\n",
    "        int_grads += grads\n",
    "\n",
    "    int_grads /= steps\n",
    "    int_grads = np.abs(int_grads) / np.sum(np.abs(int_grads))\n",
    "    return int_grads"
   ],
   "metadata": {
    "collapsed": false
   },
   "id": "5584579aa0f48d06"
  },
  {
   "cell_type": "code",
   "outputs": [],
   "source": [],
   "metadata": {
    "collapsed": false
   },
   "id": "feddb43c86121ab8"
  },
  {
   "cell_type": "code",
   "outputs": [],
   "source": [],
   "metadata": {
    "collapsed": false
   },
   "id": "56fd39ebd5c763d"
  }
 ],
 "metadata": {
  "kernelspec": {
   "display_name": "Python 3",
   "language": "python",
   "name": "python3"
  },
  "language_info": {
   "codemirror_mode": {
    "name": "ipython",
    "version": 2
   },
   "file_extension": ".py",
   "mimetype": "text/x-python",
   "name": "python",
   "nbconvert_exporter": "python",
   "pygments_lexer": "ipython2",
   "version": "2.7.6"
  }
 },
 "nbformat": 4,
 "nbformat_minor": 5
}
