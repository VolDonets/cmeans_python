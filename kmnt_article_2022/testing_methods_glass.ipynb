{
 "cells": [
  {
   "cell_type": "code",
   "execution_count": 1,
   "metadata": {
    "collapsed": true
   },
   "outputs": [],
   "source": [
    "import coeficients\n",
    "import cmeans_math.data_loads as data_loads\n",
    "import cmeans_math.data_preprocessing as dp\n",
    "\n",
    "import matplotlib.pyplot as plt\n",
    "import pandas as pd\n",
    "import numpy as np"
   ]
  },
  {
   "cell_type": "code",
   "execution_count": 3,
   "outputs": [
    {
     "data": {
      "text/plain": "   num  param_0  param_1  param_2  param_3  param_4  param_5  param_6  \\\n0    1  1.52101    13.64     4.49     1.10    71.78     0.06     8.75   \n1    2  1.51761    13.89     3.60     1.36    72.73     0.48     7.83   \n2    3  1.51618    13.53     3.55     1.54    72.99     0.39     7.78   \n3    4  1.51766    13.21     3.69     1.29    72.61     0.57     8.22   \n4    5  1.51742    13.27     3.62     1.24    73.08     0.55     8.07   \n\n   param_7  param_8  class  \n0      0.0      0.0      1  \n1      0.0      0.0      1  \n2      0.0      0.0      1  \n3      0.0      0.0      1  \n4      0.0      0.0      1  ",
      "text/html": "<div>\n<style scoped>\n    .dataframe tbody tr th:only-of-type {\n        vertical-align: middle;\n    }\n\n    .dataframe tbody tr th {\n        vertical-align: top;\n    }\n\n    .dataframe thead th {\n        text-align: right;\n    }\n</style>\n<table border=\"1\" class=\"dataframe\">\n  <thead>\n    <tr style=\"text-align: right;\">\n      <th></th>\n      <th>num</th>\n      <th>param_0</th>\n      <th>param_1</th>\n      <th>param_2</th>\n      <th>param_3</th>\n      <th>param_4</th>\n      <th>param_5</th>\n      <th>param_6</th>\n      <th>param_7</th>\n      <th>param_8</th>\n      <th>class</th>\n    </tr>\n  </thead>\n  <tbody>\n    <tr>\n      <th>0</th>\n      <td>1</td>\n      <td>1.52101</td>\n      <td>13.64</td>\n      <td>4.49</td>\n      <td>1.10</td>\n      <td>71.78</td>\n      <td>0.06</td>\n      <td>8.75</td>\n      <td>0.0</td>\n      <td>0.0</td>\n      <td>1</td>\n    </tr>\n    <tr>\n      <th>1</th>\n      <td>2</td>\n      <td>1.51761</td>\n      <td>13.89</td>\n      <td>3.60</td>\n      <td>1.36</td>\n      <td>72.73</td>\n      <td>0.48</td>\n      <td>7.83</td>\n      <td>0.0</td>\n      <td>0.0</td>\n      <td>1</td>\n    </tr>\n    <tr>\n      <th>2</th>\n      <td>3</td>\n      <td>1.51618</td>\n      <td>13.53</td>\n      <td>3.55</td>\n      <td>1.54</td>\n      <td>72.99</td>\n      <td>0.39</td>\n      <td>7.78</td>\n      <td>0.0</td>\n      <td>0.0</td>\n      <td>1</td>\n    </tr>\n    <tr>\n      <th>3</th>\n      <td>4</td>\n      <td>1.51766</td>\n      <td>13.21</td>\n      <td>3.69</td>\n      <td>1.29</td>\n      <td>72.61</td>\n      <td>0.57</td>\n      <td>8.22</td>\n      <td>0.0</td>\n      <td>0.0</td>\n      <td>1</td>\n    </tr>\n    <tr>\n      <th>4</th>\n      <td>5</td>\n      <td>1.51742</td>\n      <td>13.27</td>\n      <td>3.62</td>\n      <td>1.24</td>\n      <td>73.08</td>\n      <td>0.55</td>\n      <td>8.07</td>\n      <td>0.0</td>\n      <td>0.0</td>\n      <td>1</td>\n    </tr>\n  </tbody>\n</table>\n</div>"
     },
     "execution_count": 3,
     "metadata": {},
     "output_type": "execute_result"
    }
   ],
   "source": [
    "data = pd.read_csv('./data/glass/glass.data', names=['num', 'param_0', 'param_1', 'param_2', 'param_3', 'param_4', 'param_5',\n",
    "                                                   'param_6', 'param_7', 'param_8', 'class'])\n",
    "data.head()"
   ],
   "metadata": {
    "collapsed": false
   }
  },
  {
   "cell_type": "code",
   "execution_count": 4,
   "outputs": [],
   "source": [
    "X = np.array(data[['param_0', 'param_1', 'param_2', 'param_3', 'param_4', 'param_5',\n",
    "                   'param_6', 'param_7', 'param_8']])"
   ],
   "metadata": {
    "collapsed": false
   }
  },
  {
   "cell_type": "code",
   "execution_count": 5,
   "outputs": [
    {
     "data": {
      "text/plain": "array([[-0.13432836, -0.12481203,  1.        , ..., -0.38289963,\n        -1.        , -1.        ],\n       [-0.43283582, -0.04962406,  0.60356347, ..., -0.55390335,\n        -1.        , -1.        ],\n       [-0.55838455, -0.15789474,  0.58129176, ..., -0.56319703,\n        -1.        , -1.        ],\n       ...,\n       [-0.16593503,  0.09172932, -1.        , ..., -0.44052045,\n         0.04126984, -1.        ],\n       [-0.52941176,  0.09774436, -1.        , ..., -0.4330855 ,\n        -0.0031746 , -1.        ],\n       [-0.47673398,  0.05263158, -1.        , ..., -0.4070632 ,\n         0.06031746, -1.        ]])"
     },
     "execution_count": 5,
     "metadata": {},
     "output_type": "execute_result"
    }
   ],
   "source": [
    "X = np.array(dp.get_updated_data_set(X))\n",
    "X"
   ],
   "metadata": {
    "collapsed": false
   }
  },
  {
   "cell_type": "code",
   "execution_count": 6,
   "outputs": [],
   "source": [
    "fsi = []\n",
    "pc = []\n",
    "pec = []\n",
    "pcaes = []\n",
    "mah = []\n",
    "mah_inv = []\n",
    "klc = []"
   ],
   "metadata": {
    "collapsed": false
   }
  },
  {
   "cell_type": "code",
   "execution_count": 7,
   "outputs": [],
   "source": [
    "min_cluster_count = 1\n",
    "max_cluster_count = 20"
   ],
   "metadata": {
    "collapsed": false
   }
  },
  {
   "cell_type": "code",
   "execution_count": null,
   "outputs": [
    {
     "name": "stderr",
     "output_type": "stream",
     "text": [
      "WARNING:absl:No GPU/TPU found, falling back to CPU. (Set TF_CPP_MIN_LOG_LEVEL=0 and rerun for more info.)\n"
     ]
    },
    {
     "name": "stdout",
     "output_type": "stream",
     "text": [
      "Tested clusters: 1\n",
      "Tested clusters: 2\n"
     ]
    }
   ],
   "source": [
    "for i in range(min_cluster_count, max_cluster_count + 1):\n",
    "    cmeans_tst = coeficients.FCM_coef(mat_X=X, n_clusters=i, max_iter=300, random_state=1)\n",
    "    cmeans_tst.fit()\n",
    "    fsi.append(cmeans_tst.fukuyama_sugeno_index)\n",
    "    pc.append(cmeans_tst.partition_coefficient)\n",
    "    pec.append(cmeans_tst.partition_entropy_coefficient)\n",
    "    pcaes.append(cmeans_tst.partition_coef_exp_sep)\n",
    "    mah.append(cmeans_tst.mahalanobis_coefficient)\n",
    "    mah_inv.append(cmeans_tst.mahalanobis_inverse_coefficient)\n",
    "    klc.append(cmeans_tst.kulback_leibler_coefficient)\n",
    "    print('Tested clusters:', i)"
   ],
   "metadata": {
    "collapsed": false,
    "pycharm": {
     "is_executing": true
    }
   }
  },
  {
   "cell_type": "code",
   "execution_count": null,
   "outputs": [],
   "source": [
    "res_coefs = pd.DataFrame()\n",
    "res_coefs['fsi'] = np.array(fsi)\n",
    "res_coefs['pc'] = np.array(pc)\n",
    "res_coefs['pec'] = np.array(pec)\n",
    "res_coefs['pcaes'] = np.array(pcaes)\n",
    "res_coefs['mah'] = np.array(mah)\n",
    "res_coefs['mah_inv'] = np.array(mah_inv)\n",
    "res_coefs['klc'] = np.array(klc)"
   ],
   "metadata": {
    "collapsed": false
   }
  },
  {
   "cell_type": "code",
   "execution_count": null,
   "outputs": [],
   "source": [
    "res_coefs"
   ],
   "metadata": {
    "collapsed": false
   }
  },
  {
   "cell_type": "code",
   "execution_count": null,
   "outputs": [],
   "source": [
    "res_coefs.to_csv('./data/results/glass_res.csv')"
   ],
   "metadata": {
    "collapsed": false
   }
  },
  {
   "cell_type": "code",
   "execution_count": null,
   "outputs": [],
   "source": [
    "def plot_res(x, y, x_label, y_label, title):\n",
    "    plt.plot(x, y)\n",
    "    plt.xlabel(x_label)\n",
    "    plt.ylabel(y_label)\n",
    "    plt.title(title)\n",
    "    plt.show()"
   ],
   "metadata": {
    "collapsed": false
   }
  },
  {
   "cell_type": "code",
   "execution_count": null,
   "outputs": [],
   "source": [
    "import matplotlib.pyplot as plt\n",
    "import pandas as pd\n",
    "import numpy as np"
   ],
   "metadata": {
    "collapsed": false
   }
  },
  {
   "cell_type": "code",
   "execution_count": null,
   "outputs": [],
   "source": [
    "res_coefs = pd.read_csv('./data/results/glass_res.csv')"
   ],
   "metadata": {
    "collapsed": false
   }
  },
  {
   "cell_type": "code",
   "execution_count": null,
   "outputs": [],
   "source": [
    "res_coefs.head()"
   ],
   "metadata": {
    "collapsed": false
   }
  },
  {
   "cell_type": "code",
   "execution_count": null,
   "outputs": [],
   "source": [
    "plot_res(x=range(min_cluster_count, max_cluster_count + 1), y=res_coefs['fsi'],\n",
    "         x_label='Count Clusters', y_label='FS index', title='Fukuyama-Sugeno Index')"
   ],
   "metadata": {
    "collapsed": false
   }
  },
  {
   "cell_type": "code",
   "execution_count": null,
   "outputs": [],
   "source": [
    "plot_res(x=range(min_cluster_count, max_cluster_count + 1), y=res_coefs['pc'],\n",
    "         x_label='Count Clusters', y_label='Partition Coefficient', title='Partition Coefficient')"
   ],
   "metadata": {
    "collapsed": false
   }
  },
  {
   "cell_type": "code",
   "execution_count": null,
   "outputs": [],
   "source": [
    "plot_res(x=range(min_cluster_count, max_cluster_count + 1), y=res_coefs['pcaes'],\n",
    "         x_label='Count Clusters', y_label='P&ES Coefficient', title='Partition Coefficient & Exponential Separation')"
   ],
   "metadata": {
    "collapsed": false
   }
  },
  {
   "cell_type": "code",
   "execution_count": null,
   "outputs": [],
   "source": [
    "plot_res(x=range(min_cluster_count, max_cluster_count + 1), y=res_coefs['mah'],\n",
    "         x_label='Count Clusters', y_label='Mahalanomis Coefficient', title='Mahalanobis Coefficient')"
   ],
   "metadata": {
    "collapsed": false
   }
  },
  {
   "cell_type": "code",
   "execution_count": null,
   "outputs": [],
   "source": [
    "plot_res(x=range(min_cluster_count, max_cluster_count + 1), y=res_coefs['mah_inv'],\n",
    "         x_label='Count Clusters', y_label='Mah Inv Coefficient', title='Mahalanobis Inverse Coefficient')"
   ],
   "metadata": {
    "collapsed": false
   }
  },
  {
   "cell_type": "code",
   "execution_count": null,
   "outputs": [],
   "source": [
    "plot_res(x=range(min_cluster_count, max_cluster_count + 1), y=res_coefs['klc'],\n",
    "         x_label='Count Clusters', y_label='KL Coefficient', title='KL Coefficient')"
   ],
   "metadata": {
    "collapsed": false
   }
  },
  {
   "cell_type": "code",
   "execution_count": null,
   "outputs": [],
   "source": [],
   "metadata": {
    "collapsed": false
   }
  }
 ],
 "metadata": {
  "kernelspec": {
   "display_name": "Python 3",
   "language": "python",
   "name": "python3"
  },
  "language_info": {
   "codemirror_mode": {
    "name": "ipython",
    "version": 2
   },
   "file_extension": ".py",
   "mimetype": "text/x-python",
   "name": "python",
   "nbconvert_exporter": "python",
   "pygments_lexer": "ipython2",
   "version": "2.7.6"
  }
 },
 "nbformat": 4,
 "nbformat_minor": 0
}
